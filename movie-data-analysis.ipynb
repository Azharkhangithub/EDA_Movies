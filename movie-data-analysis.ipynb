{
 "cells": [
  {
   "cell_type": "code",
   "execution_count": 1,
   "metadata": {
    "_cell_guid": "b1076dfc-b9ad-4769-8c92-a6c4dae69d19",
    "_uuid": "8f2839f25d086af736a60e9eeb907d3b93b6e0e5",
    "execution": {
     "iopub.execute_input": "2022-02-19T13:17:26.184427Z",
     "iopub.status.busy": "2022-02-19T13:17:26.184134Z",
     "iopub.status.idle": "2022-02-19T13:17:27.885942Z",
     "shell.execute_reply": "2022-02-19T13:17:27.885047Z",
     "shell.execute_reply.started": "2022-02-19T13:17:26.184399Z"
    }
   },
   "outputs": [],
   "source": [
    "import numpy as np \n",
    "import pandas as pd \n",
    "import matplotlib.pyplot as plt, seaborn as sns\n",
    "%matplotlib inline\n",
    "import warnings\n",
    "warnings.filterwarnings(\"ignore\")"
   ]
  },
  {
   "cell_type": "markdown",
   "metadata": {},
   "source": [
    "# About Data\n",
    "# The data is succesfully scrapped from imdb about netflix movies and tvshows.This dataset need clever programming knowledge for feature extraction also you can build a RECOMMENDATION system either GENRE prediction model\n",
    "# ABOUT Columns:\n",
    "# \n",
    "# MOVIES:\n",
    "#          The movie names are given under the column\n",
    "# YEAR:\n",
    "#         The year of movie or tv shows telecast for audience\n",
    "# GENRE:\n",
    "#         The dataset contain many genres most valuable for recommendation system\n",
    "# RATING:\n",
    "#           The audience thought about movie or tv show given\n",
    "# ONE-LINE:\n",
    "#            The short description about movie or tv show for audiences first impression\n",
    "# STARS:\n",
    "#             The casting of art is define under this columns which makes talk between audience \n",
    "# VOTES:\n",
    "#             The audience express their view under the columns its useful to identify impact make by art \n",
    "# RUNTIME:\n",
    "#             The duration for runing time of art\n",
    "# GROSS:\n",
    "#             It gives the total amount earned in worldwide"
   ]
  },
  {
   "cell_type": "code",
   "execution_count": 2,
   "metadata": {
    "execution": {
     "iopub.execute_input": "2022-02-19T12:37:40.794218Z",
     "iopub.status.busy": "2022-02-19T12:37:40.793831Z",
     "iopub.status.idle": "2022-02-19T12:37:40.908895Z",
     "shell.execute_reply": "2022-02-19T12:37:40.907764Z",
     "shell.execute_reply.started": "2022-02-19T12:37:40.794184Z"
    }
   },
   "outputs": [
    {
     "data": {
      "text/html": [
       "<div>\n",
       "<style scoped>\n",
       "    .dataframe tbody tr th:only-of-type {\n",
       "        vertical-align: middle;\n",
       "    }\n",
       "\n",
       "    .dataframe tbody tr th {\n",
       "        vertical-align: top;\n",
       "    }\n",
       "\n",
       "    .dataframe thead th {\n",
       "        text-align: right;\n",
       "    }\n",
       "</style>\n",
       "<table border=\"1\" class=\"dataframe\">\n",
       "  <thead>\n",
       "    <tr style=\"text-align: right;\">\n",
       "      <th></th>\n",
       "      <th>MOVIES</th>\n",
       "      <th>YEAR</th>\n",
       "      <th>GENRE</th>\n",
       "      <th>RATING</th>\n",
       "      <th>ONE-LINE</th>\n",
       "      <th>STARS</th>\n",
       "      <th>VOTES</th>\n",
       "      <th>RunTime</th>\n",
       "      <th>Gross</th>\n",
       "    </tr>\n",
       "  </thead>\n",
       "  <tbody>\n",
       "    <tr>\n",
       "      <th>0</th>\n",
       "      <td>Blood Red Sky</td>\n",
       "      <td>(2021)</td>\n",
       "      <td>\\nAction, Horror, Thriller</td>\n",
       "      <td>6.1</td>\n",
       "      <td>\\nA woman with a mysterious illness is forced ...</td>\n",
       "      <td>\\n    Director:\\nPeter Thorwarth\\n| \\n    Star...</td>\n",
       "      <td>21,062</td>\n",
       "      <td>121.0</td>\n",
       "      <td>NaN</td>\n",
       "    </tr>\n",
       "    <tr>\n",
       "      <th>1</th>\n",
       "      <td>Masters of the Universe: Revelation</td>\n",
       "      <td>(2021– )</td>\n",
       "      <td>\\nAnimation, Action, Adventure</td>\n",
       "      <td>5.0</td>\n",
       "      <td>\\nThe war for Eternia begins again in what may...</td>\n",
       "      <td>\\n            \\n    Stars:\\nChris Wood, \\nSara...</td>\n",
       "      <td>17,870</td>\n",
       "      <td>25.0</td>\n",
       "      <td>NaN</td>\n",
       "    </tr>\n",
       "    <tr>\n",
       "      <th>2</th>\n",
       "      <td>The Walking Dead</td>\n",
       "      <td>(2010–2022)</td>\n",
       "      <td>\\nDrama, Horror, Thriller</td>\n",
       "      <td>8.2</td>\n",
       "      <td>\\nSheriff Deputy Rick Grimes wakes up from a c...</td>\n",
       "      <td>\\n            \\n    Stars:\\nAndrew Lincoln, \\n...</td>\n",
       "      <td>885,805</td>\n",
       "      <td>44.0</td>\n",
       "      <td>NaN</td>\n",
       "    </tr>\n",
       "    <tr>\n",
       "      <th>3</th>\n",
       "      <td>Rick and Morty</td>\n",
       "      <td>(2013– )</td>\n",
       "      <td>\\nAnimation, Adventure, Comedy</td>\n",
       "      <td>9.2</td>\n",
       "      <td>\\nAn animated series that follows the exploits...</td>\n",
       "      <td>\\n            \\n    Stars:\\nJustin Roiland, \\n...</td>\n",
       "      <td>414,849</td>\n",
       "      <td>23.0</td>\n",
       "      <td>NaN</td>\n",
       "    </tr>\n",
       "    <tr>\n",
       "      <th>4</th>\n",
       "      <td>Army of Thieves</td>\n",
       "      <td>(2021)</td>\n",
       "      <td>\\nAction, Crime, Horror</td>\n",
       "      <td>NaN</td>\n",
       "      <td>\\nA prequel, set before the events of Army of ...</td>\n",
       "      <td>\\n    Director:\\nMatthias Schweighöfer\\n| \\n  ...</td>\n",
       "      <td>NaN</td>\n",
       "      <td>NaN</td>\n",
       "      <td>NaN</td>\n",
       "    </tr>\n",
       "  </tbody>\n",
       "</table>\n",
       "</div>"
      ],
      "text/plain": [
       "                                MOVIES         YEAR  \\\n",
       "0                        Blood Red Sky       (2021)   \n",
       "1  Masters of the Universe: Revelation     (2021– )   \n",
       "2                     The Walking Dead  (2010–2022)   \n",
       "3                       Rick and Morty     (2013– )   \n",
       "4                      Army of Thieves       (2021)   \n",
       "\n",
       "                                        GENRE  RATING  \\\n",
       "0      \\nAction, Horror, Thriller                 6.1   \n",
       "1  \\nAnimation, Action, Adventure                 5.0   \n",
       "2       \\nDrama, Horror, Thriller                 8.2   \n",
       "3  \\nAnimation, Adventure, Comedy                 9.2   \n",
       "4         \\nAction, Crime, Horror                 NaN   \n",
       "\n",
       "                                            ONE-LINE  \\\n",
       "0  \\nA woman with a mysterious illness is forced ...   \n",
       "1  \\nThe war for Eternia begins again in what may...   \n",
       "2  \\nSheriff Deputy Rick Grimes wakes up from a c...   \n",
       "3  \\nAn animated series that follows the exploits...   \n",
       "4  \\nA prequel, set before the events of Army of ...   \n",
       "\n",
       "                                               STARS    VOTES  RunTime Gross  \n",
       "0  \\n    Director:\\nPeter Thorwarth\\n| \\n    Star...   21,062    121.0   NaN  \n",
       "1  \\n            \\n    Stars:\\nChris Wood, \\nSara...   17,870     25.0   NaN  \n",
       "2  \\n            \\n    Stars:\\nAndrew Lincoln, \\n...  885,805     44.0   NaN  \n",
       "3  \\n            \\n    Stars:\\nJustin Roiland, \\n...  414,849     23.0   NaN  \n",
       "4  \\n    Director:\\nMatthias Schweighöfer\\n| \\n  ...      NaN      NaN   NaN  "
      ]
     },
     "execution_count": 2,
     "metadata": {},
     "output_type": "execute_result"
    }
   ],
   "source": [
    "movies = pd.read_csv(\"movies.csv\")\n",
    "movies.head()"
   ]
  },
  {
   "cell_type": "code",
   "execution_count": 3,
   "metadata": {
    "execution": {
     "iopub.execute_input": "2022-02-19T12:37:44.226499Z",
     "iopub.status.busy": "2022-02-19T12:37:44.226183Z",
     "iopub.status.idle": "2022-02-19T12:37:44.233087Z",
     "shell.execute_reply": "2022-02-19T12:37:44.232385Z",
     "shell.execute_reply.started": "2022-02-19T12:37:44.226468Z"
    }
   },
   "outputs": [
    {
     "data": {
      "text/plain": [
       "(9999, 9)"
      ]
     },
     "execution_count": 3,
     "metadata": {},
     "output_type": "execute_result"
    }
   ],
   "source": [
    "movies.shape"
   ]
  },
  {
   "cell_type": "code",
   "execution_count": 4,
   "metadata": {
    "execution": {
     "iopub.execute_input": "2022-02-19T12:37:53.427399Z",
     "iopub.status.busy": "2022-02-19T12:37:53.426557Z",
     "iopub.status.idle": "2022-02-19T12:37:53.449577Z",
     "shell.execute_reply": "2022-02-19T12:37:53.448361Z",
     "shell.execute_reply.started": "2022-02-19T12:37:53.427358Z"
    }
   },
   "outputs": [
    {
     "name": "stdout",
     "output_type": "stream",
     "text": [
      "<class 'pandas.core.frame.DataFrame'>\n",
      "RangeIndex: 9999 entries, 0 to 9998\n",
      "Data columns (total 9 columns):\n",
      " #   Column    Non-Null Count  Dtype  \n",
      "---  ------    --------------  -----  \n",
      " 0   MOVIES    9999 non-null   object \n",
      " 1   YEAR      9355 non-null   object \n",
      " 2   GENRE     9919 non-null   object \n",
      " 3   RATING    8179 non-null   float64\n",
      " 4   ONE-LINE  9999 non-null   object \n",
      " 5   STARS     9999 non-null   object \n",
      " 6   VOTES     8179 non-null   object \n",
      " 7   RunTime   7041 non-null   float64\n",
      " 8   Gross     460 non-null    object \n",
      "dtypes: float64(2), object(7)\n",
      "memory usage: 703.2+ KB\n"
     ]
    }
   ],
   "source": [
    "movies.info()"
   ]
  },
  {
   "cell_type": "code",
   "execution_count": 5,
   "metadata": {
    "execution": {
     "iopub.execute_input": "2022-02-19T12:38:54.030918Z",
     "iopub.status.busy": "2022-02-19T12:38:54.029962Z",
     "iopub.status.idle": "2022-02-19T12:38:54.049674Z",
     "shell.execute_reply": "2022-02-19T12:38:54.049033Z",
     "shell.execute_reply.started": "2022-02-19T12:38:54.030874Z"
    }
   },
   "outputs": [
    {
     "data": {
      "text/plain": [
       "Gross       9539\n",
       "RunTime     2958\n",
       "RATING      1820\n",
       "VOTES       1820\n",
       "YEAR         644\n",
       "GENRE         80\n",
       "MOVIES         0\n",
       "ONE-LINE       0\n",
       "STARS          0\n",
       "dtype: int64"
      ]
     },
     "execution_count": 5,
     "metadata": {},
     "output_type": "execute_result"
    }
   ],
   "source": [
    "movies.isna().sum().sort_values(ascending=False)"
   ]
  },
  {
   "cell_type": "markdown",
   "metadata": {
    "execution": {
     "iopub.execute_input": "2022-02-19T11:55:56.911141Z",
     "iopub.status.busy": "2022-02-19T11:55:56.910847Z",
     "iopub.status.idle": "2022-02-19T11:55:56.927525Z",
     "shell.execute_reply": "2022-02-19T11:55:56.926505Z",
     "shell.execute_reply.started": "2022-02-19T11:55:56.911112Z"
    }
   },
   "source": [
    "# **Analysis of different columns values**"
   ]
  },
  {
   "cell_type": "markdown",
   "metadata": {},
   "source": [
    "## Analysis Focus area: Movie Ratings as per RunTime"
   ]
  },
  {
   "cell_type": "markdown",
   "metadata": {},
   "source": [
    "### Renaming Column ONE-LINE to ONE_LINE so that it can be used in pandas"
   ]
  },
  {
   "cell_type": "code",
   "execution_count": 6,
   "metadata": {
    "execution": {
     "iopub.execute_input": "2022-02-19T12:39:33.067331Z",
     "iopub.status.busy": "2022-02-19T12:39:33.066532Z",
     "iopub.status.idle": "2022-02-19T12:39:33.073997Z",
     "shell.execute_reply": "2022-02-19T12:39:33.072793Z",
     "shell.execute_reply.started": "2022-02-19T12:39:33.067263Z"
    }
   },
   "outputs": [],
   "source": [
    "movies.rename(columns = {'ONE-LINE':'ONE_LINE'}, inplace = True)   "
   ]
  },
  {
   "cell_type": "code",
   "execution_count": 7,
   "metadata": {
    "execution": {
     "iopub.execute_input": "2022-02-19T12:39:39.531975Z",
     "iopub.status.busy": "2022-02-19T12:39:39.531406Z",
     "iopub.status.idle": "2022-02-19T12:39:39.548923Z",
     "shell.execute_reply": "2022-02-19T12:39:39.548054Z",
     "shell.execute_reply.started": "2022-02-19T12:39:39.531940Z"
    }
   },
   "outputs": [
    {
     "data": {
      "text/html": [
       "<div>\n",
       "<style scoped>\n",
       "    .dataframe tbody tr th:only-of-type {\n",
       "        vertical-align: middle;\n",
       "    }\n",
       "\n",
       "    .dataframe tbody tr th {\n",
       "        vertical-align: top;\n",
       "    }\n",
       "\n",
       "    .dataframe thead th {\n",
       "        text-align: right;\n",
       "    }\n",
       "</style>\n",
       "<table border=\"1\" class=\"dataframe\">\n",
       "  <thead>\n",
       "    <tr style=\"text-align: right;\">\n",
       "      <th></th>\n",
       "      <th>MOVIES</th>\n",
       "      <th>YEAR</th>\n",
       "      <th>GENRE</th>\n",
       "      <th>RATING</th>\n",
       "      <th>ONE_LINE</th>\n",
       "      <th>STARS</th>\n",
       "      <th>VOTES</th>\n",
       "      <th>RunTime</th>\n",
       "      <th>Gross</th>\n",
       "    </tr>\n",
       "  </thead>\n",
       "  <tbody>\n",
       "    <tr>\n",
       "      <th>0</th>\n",
       "      <td>Blood Red Sky</td>\n",
       "      <td>(2021)</td>\n",
       "      <td>\\nAction, Horror, Thriller</td>\n",
       "      <td>6.1</td>\n",
       "      <td>\\nA woman with a mysterious illness is forced ...</td>\n",
       "      <td>\\n    Director:\\nPeter Thorwarth\\n| \\n    Star...</td>\n",
       "      <td>21,062</td>\n",
       "      <td>121.0</td>\n",
       "      <td>NaN</td>\n",
       "    </tr>\n",
       "    <tr>\n",
       "      <th>1</th>\n",
       "      <td>Masters of the Universe: Revelation</td>\n",
       "      <td>(2021– )</td>\n",
       "      <td>\\nAnimation, Action, Adventure</td>\n",
       "      <td>5.0</td>\n",
       "      <td>\\nThe war for Eternia begins again in what may...</td>\n",
       "      <td>\\n            \\n    Stars:\\nChris Wood, \\nSara...</td>\n",
       "      <td>17,870</td>\n",
       "      <td>25.0</td>\n",
       "      <td>NaN</td>\n",
       "    </tr>\n",
       "    <tr>\n",
       "      <th>2</th>\n",
       "      <td>The Walking Dead</td>\n",
       "      <td>(2010–2022)</td>\n",
       "      <td>\\nDrama, Horror, Thriller</td>\n",
       "      <td>8.2</td>\n",
       "      <td>\\nSheriff Deputy Rick Grimes wakes up from a c...</td>\n",
       "      <td>\\n            \\n    Stars:\\nAndrew Lincoln, \\n...</td>\n",
       "      <td>885,805</td>\n",
       "      <td>44.0</td>\n",
       "      <td>NaN</td>\n",
       "    </tr>\n",
       "    <tr>\n",
       "      <th>3</th>\n",
       "      <td>Rick and Morty</td>\n",
       "      <td>(2013– )</td>\n",
       "      <td>\\nAnimation, Adventure, Comedy</td>\n",
       "      <td>9.2</td>\n",
       "      <td>\\nAn animated series that follows the exploits...</td>\n",
       "      <td>\\n            \\n    Stars:\\nJustin Roiland, \\n...</td>\n",
       "      <td>414,849</td>\n",
       "      <td>23.0</td>\n",
       "      <td>NaN</td>\n",
       "    </tr>\n",
       "    <tr>\n",
       "      <th>4</th>\n",
       "      <td>Army of Thieves</td>\n",
       "      <td>(2021)</td>\n",
       "      <td>\\nAction, Crime, Horror</td>\n",
       "      <td>NaN</td>\n",
       "      <td>\\nA prequel, set before the events of Army of ...</td>\n",
       "      <td>\\n    Director:\\nMatthias Schweighöfer\\n| \\n  ...</td>\n",
       "      <td>NaN</td>\n",
       "      <td>NaN</td>\n",
       "      <td>NaN</td>\n",
       "    </tr>\n",
       "  </tbody>\n",
       "</table>\n",
       "</div>"
      ],
      "text/plain": [
       "                                MOVIES         YEAR  \\\n",
       "0                        Blood Red Sky       (2021)   \n",
       "1  Masters of the Universe: Revelation     (2021– )   \n",
       "2                     The Walking Dead  (2010–2022)   \n",
       "3                       Rick and Morty     (2013– )   \n",
       "4                      Army of Thieves       (2021)   \n",
       "\n",
       "                                        GENRE  RATING  \\\n",
       "0      \\nAction, Horror, Thriller                 6.1   \n",
       "1  \\nAnimation, Action, Adventure                 5.0   \n",
       "2       \\nDrama, Horror, Thriller                 8.2   \n",
       "3  \\nAnimation, Adventure, Comedy                 9.2   \n",
       "4         \\nAction, Crime, Horror                 NaN   \n",
       "\n",
       "                                            ONE_LINE  \\\n",
       "0  \\nA woman with a mysterious illness is forced ...   \n",
       "1  \\nThe war for Eternia begins again in what may...   \n",
       "2  \\nSheriff Deputy Rick Grimes wakes up from a c...   \n",
       "3  \\nAn animated series that follows the exploits...   \n",
       "4  \\nA prequel, set before the events of Army of ...   \n",
       "\n",
       "                                               STARS    VOTES  RunTime Gross  \n",
       "0  \\n    Director:\\nPeter Thorwarth\\n| \\n    Star...   21,062    121.0   NaN  \n",
       "1  \\n            \\n    Stars:\\nChris Wood, \\nSara...   17,870     25.0   NaN  \n",
       "2  \\n            \\n    Stars:\\nAndrew Lincoln, \\n...  885,805     44.0   NaN  \n",
       "3  \\n            \\n    Stars:\\nJustin Roiland, \\n...  414,849     23.0   NaN  \n",
       "4  \\n    Director:\\nMatthias Schweighöfer\\n| \\n  ...      NaN      NaN   NaN  "
      ]
     },
     "execution_count": 7,
     "metadata": {},
     "output_type": "execute_result"
    }
   ],
   "source": [
    "movies.head()"
   ]
  },
  {
   "cell_type": "code",
   "execution_count": 8,
   "metadata": {
    "execution": {
     "iopub.execute_input": "2022-02-19T12:39:43.124426Z",
     "iopub.status.busy": "2022-02-19T12:39:43.123846Z",
     "iopub.status.idle": "2022-02-19T12:39:43.147376Z",
     "shell.execute_reply": "2022-02-19T12:39:43.146503Z",
     "shell.execute_reply.started": "2022-02-19T12:39:43.124389Z"
    }
   },
   "outputs": [
    {
     "data": {
      "text/html": [
       "<div>\n",
       "<style scoped>\n",
       "    .dataframe tbody tr th:only-of-type {\n",
       "        vertical-align: middle;\n",
       "    }\n",
       "\n",
       "    .dataframe tbody tr th {\n",
       "        vertical-align: top;\n",
       "    }\n",
       "\n",
       "    .dataframe thead th {\n",
       "        text-align: right;\n",
       "    }\n",
       "</style>\n",
       "<table border=\"1\" class=\"dataframe\">\n",
       "  <thead>\n",
       "    <tr style=\"text-align: right;\">\n",
       "      <th></th>\n",
       "      <th>MOVIES</th>\n",
       "      <th>YEAR</th>\n",
       "      <th>GENRE</th>\n",
       "      <th>RATING</th>\n",
       "      <th>ONE_LINE</th>\n",
       "      <th>STARS</th>\n",
       "      <th>VOTES</th>\n",
       "      <th>RunTime</th>\n",
       "      <th>Gross</th>\n",
       "    </tr>\n",
       "  </thead>\n",
       "  <tbody>\n",
       "    <tr>\n",
       "      <th>4</th>\n",
       "      <td>Army of Thieves</td>\n",
       "      <td>(2021)</td>\n",
       "      <td>\\nAction, Crime, Horror</td>\n",
       "      <td>NaN</td>\n",
       "      <td>\\nA prequel, set before the events of Army of ...</td>\n",
       "      <td>\\n    Director:\\nMatthias Schweighöfer\\n| \\n  ...</td>\n",
       "      <td>NaN</td>\n",
       "      <td>NaN</td>\n",
       "      <td>NaN</td>\n",
       "    </tr>\n",
       "    <tr>\n",
       "      <th>24</th>\n",
       "      <td>He-Man and the Masters of the Universe</td>\n",
       "      <td>(2021– )</td>\n",
       "      <td>\\nAnimation, Action, Adventure</td>\n",
       "      <td>NaN</td>\n",
       "      <td>\\nEternia's Prince Adam discovers the power of...</td>\n",
       "      <td>\\n</td>\n",
       "      <td>NaN</td>\n",
       "      <td>NaN</td>\n",
       "      <td>NaN</td>\n",
       "    </tr>\n",
       "    <tr>\n",
       "      <th>214</th>\n",
       "      <td>Sing 2</td>\n",
       "      <td>(2021)</td>\n",
       "      <td>\\nAnimation, Adventure, Comedy</td>\n",
       "      <td>NaN</td>\n",
       "      <td>\\nBuster Moon and his friends must persuade re...</td>\n",
       "      <td>\\n    Director:\\nGarth Jennings\\n| \\n    Stars...</td>\n",
       "      <td>NaN</td>\n",
       "      <td>NaN</td>\n",
       "      <td>NaN</td>\n",
       "    </tr>\n",
       "    <tr>\n",
       "      <th>217</th>\n",
       "      <td>Knives Out 2</td>\n",
       "      <td>(2022)</td>\n",
       "      <td>\\nComedy, Crime, Drama</td>\n",
       "      <td>NaN</td>\n",
       "      <td>\\nPlot unknown. Sequel to the 2019 film 'Knive...</td>\n",
       "      <td>\\n    Director:\\nRian Johnson\\n| \\n    Stars:\\...</td>\n",
       "      <td>NaN</td>\n",
       "      <td>NaN</td>\n",
       "      <td>NaN</td>\n",
       "    </tr>\n",
       "    <tr>\n",
       "      <th>222</th>\n",
       "      <td>Don't Look Up</td>\n",
       "      <td>(2021)</td>\n",
       "      <td>\\nComedy</td>\n",
       "      <td>NaN</td>\n",
       "      <td>\\nThe story of two low-level astronomers, who ...</td>\n",
       "      <td>\\n    Director:\\nAdam McKay\\n| \\n    Stars:\\nT...</td>\n",
       "      <td>NaN</td>\n",
       "      <td>145.0</td>\n",
       "      <td>NaN</td>\n",
       "    </tr>\n",
       "    <tr>\n",
       "      <th>...</th>\n",
       "      <td>...</td>\n",
       "      <td>...</td>\n",
       "      <td>...</td>\n",
       "      <td>...</td>\n",
       "      <td>...</td>\n",
       "      <td>...</td>\n",
       "      <td>...</td>\n",
       "      <td>...</td>\n",
       "      <td>...</td>\n",
       "    </tr>\n",
       "    <tr>\n",
       "      <th>9994</th>\n",
       "      <td>The Imperfects</td>\n",
       "      <td>(2021– )</td>\n",
       "      <td>\\nAdventure, Drama, Fantasy</td>\n",
       "      <td>NaN</td>\n",
       "      <td>\\nAdd a Plot\\n</td>\n",
       "      <td>\\n            \\n    Stars:\\nMorgan Taylor Camp...</td>\n",
       "      <td>NaN</td>\n",
       "      <td>NaN</td>\n",
       "      <td>NaN</td>\n",
       "    </tr>\n",
       "    <tr>\n",
       "      <th>9995</th>\n",
       "      <td>Arcane</td>\n",
       "      <td>(2021– )</td>\n",
       "      <td>\\nAnimation, Action, Adventure</td>\n",
       "      <td>NaN</td>\n",
       "      <td>\\nAdd a Plot\\n</td>\n",
       "      <td>\\n</td>\n",
       "      <td>NaN</td>\n",
       "      <td>NaN</td>\n",
       "      <td>NaN</td>\n",
       "    </tr>\n",
       "    <tr>\n",
       "      <th>9996</th>\n",
       "      <td>Heart of Invictus</td>\n",
       "      <td>(2022– )</td>\n",
       "      <td>\\nDocumentary, Sport</td>\n",
       "      <td>NaN</td>\n",
       "      <td>\\nAdd a Plot\\n</td>\n",
       "      <td>\\n    Director:\\nOrlando von Einsiedel\\n| \\n  ...</td>\n",
       "      <td>NaN</td>\n",
       "      <td>NaN</td>\n",
       "      <td>NaN</td>\n",
       "    </tr>\n",
       "    <tr>\n",
       "      <th>9997</th>\n",
       "      <td>The Imperfects</td>\n",
       "      <td>(2021– )</td>\n",
       "      <td>\\nAdventure, Drama, Fantasy</td>\n",
       "      <td>NaN</td>\n",
       "      <td>\\nAdd a Plot\\n</td>\n",
       "      <td>\\n    Director:\\nJovanka Vuckovic\\n| \\n    Sta...</td>\n",
       "      <td>NaN</td>\n",
       "      <td>NaN</td>\n",
       "      <td>NaN</td>\n",
       "    </tr>\n",
       "    <tr>\n",
       "      <th>9998</th>\n",
       "      <td>The Imperfects</td>\n",
       "      <td>(2021– )</td>\n",
       "      <td>\\nAdventure, Drama, Fantasy</td>\n",
       "      <td>NaN</td>\n",
       "      <td>\\nAdd a Plot\\n</td>\n",
       "      <td>\\n    Director:\\nJovanka Vuckovic\\n| \\n    Sta...</td>\n",
       "      <td>NaN</td>\n",
       "      <td>NaN</td>\n",
       "      <td>NaN</td>\n",
       "    </tr>\n",
       "  </tbody>\n",
       "</table>\n",
       "<p>1820 rows × 9 columns</p>\n",
       "</div>"
      ],
      "text/plain": [
       "                                      MOVIES      YEAR  \\\n",
       "4                            Army of Thieves    (2021)   \n",
       "24    He-Man and the Masters of the Universe  (2021– )   \n",
       "214                                   Sing 2    (2021)   \n",
       "217                             Knives Out 2    (2022)   \n",
       "222                            Don't Look Up    (2021)   \n",
       "...                                      ...       ...   \n",
       "9994                          The Imperfects  (2021– )   \n",
       "9995                                  Arcane  (2021– )   \n",
       "9996                       Heart of Invictus  (2022– )   \n",
       "9997                          The Imperfects  (2021– )   \n",
       "9998                          The Imperfects  (2021– )   \n",
       "\n",
       "                                           GENRE  RATING  \\\n",
       "4            \\nAction, Crime, Horror                 NaN   \n",
       "24    \\nAnimation, Action, Adventure                 NaN   \n",
       "214   \\nAnimation, Adventure, Comedy                 NaN   \n",
       "217           \\nComedy, Crime, Drama                 NaN   \n",
       "222                         \\nComedy                 NaN   \n",
       "...                                          ...     ...   \n",
       "9994     \\nAdventure, Drama, Fantasy                 NaN   \n",
       "9995  \\nAnimation, Action, Adventure                 NaN   \n",
       "9996            \\nDocumentary, Sport                 NaN   \n",
       "9997     \\nAdventure, Drama, Fantasy                 NaN   \n",
       "9998     \\nAdventure, Drama, Fantasy                 NaN   \n",
       "\n",
       "                                               ONE_LINE  \\\n",
       "4     \\nA prequel, set before the events of Army of ...   \n",
       "24    \\nEternia's Prince Adam discovers the power of...   \n",
       "214   \\nBuster Moon and his friends must persuade re...   \n",
       "217   \\nPlot unknown. Sequel to the 2019 film 'Knive...   \n",
       "222   \\nThe story of two low-level astronomers, who ...   \n",
       "...                                                 ...   \n",
       "9994                                     \\nAdd a Plot\\n   \n",
       "9995                                     \\nAdd a Plot\\n   \n",
       "9996                                     \\nAdd a Plot\\n   \n",
       "9997                                     \\nAdd a Plot\\n   \n",
       "9998                                     \\nAdd a Plot\\n   \n",
       "\n",
       "                                                  STARS VOTES  RunTime Gross  \n",
       "4     \\n    Director:\\nMatthias Schweighöfer\\n| \\n  ...   NaN      NaN   NaN  \n",
       "24                                                   \\n   NaN      NaN   NaN  \n",
       "214   \\n    Director:\\nGarth Jennings\\n| \\n    Stars...   NaN      NaN   NaN  \n",
       "217   \\n    Director:\\nRian Johnson\\n| \\n    Stars:\\...   NaN      NaN   NaN  \n",
       "222   \\n    Director:\\nAdam McKay\\n| \\n    Stars:\\nT...   NaN    145.0   NaN  \n",
       "...                                                 ...   ...      ...   ...  \n",
       "9994  \\n            \\n    Stars:\\nMorgan Taylor Camp...   NaN      NaN   NaN  \n",
       "9995                                                 \\n   NaN      NaN   NaN  \n",
       "9996  \\n    Director:\\nOrlando von Einsiedel\\n| \\n  ...   NaN      NaN   NaN  \n",
       "9997  \\n    Director:\\nJovanka Vuckovic\\n| \\n    Sta...   NaN      NaN   NaN  \n",
       "9998  \\n    Director:\\nJovanka Vuckovic\\n| \\n    Sta...   NaN      NaN   NaN  \n",
       "\n",
       "[1820 rows x 9 columns]"
      ]
     },
     "execution_count": 8,
     "metadata": {},
     "output_type": "execute_result"
    }
   ],
   "source": [
    "# Rating Column \"na\" values\n",
    "movies[movies.RATING.isna()]"
   ]
  },
  {
   "cell_type": "code",
   "execution_count": 9,
   "metadata": {
    "execution": {
     "iopub.execute_input": "2022-02-19T12:42:32.577319Z",
     "iopub.status.busy": "2022-02-19T12:42:32.576993Z",
     "iopub.status.idle": "2022-02-19T12:42:32.585052Z",
     "shell.execute_reply": "2022-02-19T12:42:32.584137Z",
     "shell.execute_reply.started": "2022-02-19T12:42:32.577289Z"
    }
   },
   "outputs": [
    {
     "data": {
      "text/plain": [
       "1820"
      ]
     },
     "execution_count": 9,
     "metadata": {},
     "output_type": "execute_result"
    }
   ],
   "source": [
    "movies.RATING.isna().sum()"
   ]
  },
  {
   "cell_type": "code",
   "execution_count": 10,
   "metadata": {
    "execution": {
     "iopub.execute_input": "2022-02-19T12:42:49.057280Z",
     "iopub.status.busy": "2022-02-19T12:42:49.056936Z",
     "iopub.status.idle": "2022-02-19T12:42:49.063846Z",
     "shell.execute_reply": "2022-02-19T12:42:49.062859Z",
     "shell.execute_reply.started": "2022-02-19T12:42:49.057248Z"
    }
   },
   "outputs": [
    {
     "data": {
      "text/plain": [
       "(9999, 9)"
      ]
     },
     "execution_count": 10,
     "metadata": {},
     "output_type": "execute_result"
    }
   ],
   "source": [
    "movies.shape"
   ]
  },
  {
   "cell_type": "code",
   "execution_count": 11,
   "metadata": {
    "execution": {
     "iopub.execute_input": "2022-02-19T12:43:21.136540Z",
     "iopub.status.busy": "2022-02-19T12:43:21.136223Z",
     "iopub.status.idle": "2022-02-19T12:43:21.143541Z",
     "shell.execute_reply": "2022-02-19T12:43:21.142485Z",
     "shell.execute_reply.started": "2022-02-19T12:43:21.136509Z"
    }
   },
   "outputs": [
    {
     "data": {
      "text/plain": [
       "18.201820182018203"
      ]
     },
     "execution_count": 11,
     "metadata": {},
     "output_type": "execute_result"
    }
   ],
   "source": [
    "(1820/9999)*100"
   ]
  },
  {
   "cell_type": "code",
   "execution_count": 12,
   "metadata": {
    "execution": {
     "iopub.execute_input": "2022-02-19T12:41:51.379674Z",
     "iopub.status.busy": "2022-02-19T12:41:51.379154Z",
     "iopub.status.idle": "2022-02-19T12:41:51.385982Z",
     "shell.execute_reply": "2022-02-19T12:41:51.385144Z",
     "shell.execute_reply.started": "2022-02-19T12:41:51.379616Z"
    }
   },
   "outputs": [
    {
     "data": {
      "text/plain": [
       "7.2"
      ]
     },
     "execution_count": 12,
     "metadata": {},
     "output_type": "execute_result"
    }
   ],
   "source": [
    "mode_RatingVal = movies.RATING.mode()[0]\n",
    "mode_RatingVal"
   ]
  },
  {
   "cell_type": "code",
   "execution_count": 13,
   "metadata": {
    "execution": {
     "iopub.execute_input": "2022-02-19T12:58:50.867619Z",
     "iopub.status.busy": "2022-02-19T12:58:50.866971Z",
     "iopub.status.idle": "2022-02-19T12:58:50.876690Z",
     "shell.execute_reply": "2022-02-19T12:58:50.876154Z",
     "shell.execute_reply.started": "2022-02-19T12:58:50.867584Z"
    }
   },
   "outputs": [
    {
     "data": {
      "text/plain": [
       "7.2    0.040469\n",
       "7.6    0.037780\n",
       "7.5    0.037780\n",
       "7.4    0.036679\n",
       "7.3    0.036557\n",
       "         ...   \n",
       "1.8    0.000122\n",
       "1.1    0.000122\n",
       "2.0    0.000122\n",
       "2.4    0.000122\n",
       "2.2    0.000122\n",
       "Name: RATING, Length: 82, dtype: float64"
      ]
     },
     "execution_count": 13,
     "metadata": {},
     "output_type": "execute_result"
    }
   ],
   "source": [
    "movies.RATING.value_counts(normalize=True)"
   ]
  },
  {
   "cell_type": "markdown",
   "metadata": {},
   "source": [
    "#### Since Rating is an Categorical variable also the na values are about 18% of entire dataset we will not drop but rather will fill in with most frequent value using Mode"
   ]
  },
  {
   "cell_type": "code",
   "execution_count": 14,
   "metadata": {
    "execution": {
     "iopub.execute_input": "2022-02-19T13:01:24.491167Z",
     "iopub.status.busy": "2022-02-19T13:01:24.490836Z",
     "iopub.status.idle": "2022-02-19T13:01:24.501978Z",
     "shell.execute_reply": "2022-02-19T13:01:24.501193Z",
     "shell.execute_reply.started": "2022-02-19T13:01:24.491126Z"
    }
   },
   "outputs": [
    {
     "data": {
      "text/plain": [
       "7.2    0.215122\n",
       "7.6    0.030903\n",
       "7.5    0.030903\n",
       "7.4    0.030003\n",
       "7.3    0.029903\n",
       "         ...   \n",
       "1.8    0.000100\n",
       "1.1    0.000100\n",
       "2.0    0.000100\n",
       "2.4    0.000100\n",
       "2.2    0.000100\n",
       "Name: RATING, Length: 82, dtype: float64"
      ]
     },
     "execution_count": 14,
     "metadata": {},
     "output_type": "execute_result"
    }
   ],
   "source": [
    "movies.RATING.fillna(mode_RatingVal,inplace=True)\n",
    "movies.RATING.value_counts(normalize=True)"
   ]
  },
  {
   "cell_type": "markdown",
   "metadata": {},
   "source": [
    "As we saw above there is no clear causation on why Ratings are misssing . This looks "
   ]
  },
  {
   "cell_type": "code",
   "execution_count": 15,
   "metadata": {
    "execution": {
     "iopub.execute_input": "2022-02-19T13:02:08.876898Z",
     "iopub.status.busy": "2022-02-19T13:02:08.876580Z",
     "iopub.status.idle": "2022-02-19T13:02:08.884467Z",
     "shell.execute_reply": "2022-02-19T13:02:08.883438Z",
     "shell.execute_reply.started": "2022-02-19T13:02:08.876867Z"
    }
   },
   "outputs": [
    {
     "data": {
      "text/plain": [
       "0"
      ]
     },
     "execution_count": 15,
     "metadata": {},
     "output_type": "execute_result"
    }
   ],
   "source": [
    "movies.RATING.isna().sum()"
   ]
  },
  {
   "cell_type": "code",
   "execution_count": 16,
   "metadata": {
    "execution": {
     "iopub.execute_input": "2022-02-19T13:02:11.382501Z",
     "iopub.status.busy": "2022-02-19T13:02:11.382170Z",
     "iopub.status.idle": "2022-02-19T13:02:11.389206Z",
     "shell.execute_reply": "2022-02-19T13:02:11.388187Z",
     "shell.execute_reply.started": "2022-02-19T13:02:11.382463Z"
    }
   },
   "outputs": [
    {
     "data": {
      "text/plain": [
       "(9999, 9)"
      ]
     },
     "execution_count": 16,
     "metadata": {},
     "output_type": "execute_result"
    }
   ],
   "source": [
    "movies.shape"
   ]
  },
  {
   "cell_type": "markdown",
   "metadata": {},
   "source": []
  },
  {
   "cell_type": "code",
   "execution_count": 17,
   "metadata": {
    "execution": {
     "iopub.execute_input": "2022-02-19T13:02:14.613258Z",
     "iopub.status.busy": "2022-02-19T13:02:14.612964Z",
     "iopub.status.idle": "2022-02-19T13:02:14.630878Z",
     "shell.execute_reply": "2022-02-19T13:02:14.630145Z",
     "shell.execute_reply.started": "2022-02-19T13:02:14.613227Z"
    }
   },
   "outputs": [
    {
     "data": {
      "text/plain": [
       "Gross       9539\n",
       "RunTime     2958\n",
       "VOTES       1820\n",
       "YEAR         644\n",
       "GENRE         80\n",
       "MOVIES         0\n",
       "RATING         0\n",
       "ONE_LINE       0\n",
       "STARS          0\n",
       "dtype: int64"
      ]
     },
     "execution_count": 17,
     "metadata": {},
     "output_type": "execute_result"
    }
   ],
   "source": [
    "movies.isna().sum().sort_values(ascending=False)"
   ]
  },
  {
   "cell_type": "markdown",
   "metadata": {},
   "source": []
  },
  {
   "cell_type": "markdown",
   "metadata": {},
   "source": [
    "### Let Check 2nd column Runtime"
   ]
  },
  {
   "cell_type": "code",
   "execution_count": 18,
   "metadata": {
    "execution": {
     "iopub.execute_input": "2022-02-19T13:03:19.698736Z",
     "iopub.status.busy": "2022-02-19T13:03:19.698419Z",
     "iopub.status.idle": "2022-02-19T13:03:19.707131Z",
     "shell.execute_reply": "2022-02-19T13:03:19.706013Z",
     "shell.execute_reply.started": "2022-02-19T13:03:19.698704Z"
    }
   },
   "outputs": [
    {
     "data": {
      "text/plain": [
       "2958"
      ]
     },
     "execution_count": 18,
     "metadata": {},
     "output_type": "execute_result"
    }
   ],
   "source": [
    "movies.RunTime.isna().sum()"
   ]
  },
  {
   "cell_type": "code",
   "execution_count": 19,
   "metadata": {
    "execution": {
     "iopub.execute_input": "2022-02-19T13:04:17.988126Z",
     "iopub.status.busy": "2022-02-19T13:04:17.987777Z",
     "iopub.status.idle": "2022-02-19T13:04:17.995402Z",
     "shell.execute_reply": "2022-02-19T13:04:17.994188Z",
     "shell.execute_reply.started": "2022-02-19T13:04:17.988072Z"
    }
   },
   "outputs": [
    {
     "data": {
      "text/plain": [
       "29.58295829582958"
      ]
     },
     "execution_count": 19,
     "metadata": {},
     "output_type": "execute_result"
    }
   ],
   "source": [
    "(2958/9999)*100"
   ]
  },
  {
   "cell_type": "markdown",
   "metadata": {},
   "source": [
    "### Observation:  \n",
    "#### RunTime is continuos varaible and its null value account 29.58%,also we don't see any dependent factor causing .The Values are missing at Random i.e Missing completely at Random(MCAR) hence lets use statistical approach to fill null values with either meam or median"
   ]
  },
  {
   "cell_type": "code",
   "execution_count": 20,
   "metadata": {
    "execution": {
     "iopub.execute_input": "2022-02-19T13:13:11.197503Z",
     "iopub.status.busy": "2022-02-19T13:13:11.196990Z",
     "iopub.status.idle": "2022-02-19T13:13:11.208973Z",
     "shell.execute_reply": "2022-02-19T13:13:11.208254Z",
     "shell.execute_reply.started": "2022-02-19T13:13:11.197470Z"
    }
   },
   "outputs": [
    {
     "data": {
      "text/plain": [
       "count    7041.000000\n",
       "mean       68.688539\n",
       "std        47.258056\n",
       "min         1.000000\n",
       "25%        36.000000\n",
       "50%        60.000000\n",
       "75%        95.000000\n",
       "max       853.000000\n",
       "Name: RunTime, dtype: float64"
      ]
     },
     "execution_count": 20,
     "metadata": {},
     "output_type": "execute_result"
    }
   ],
   "source": [
    "movies.RunTime.describe()"
   ]
  },
  {
   "cell_type": "code",
   "execution_count": 21,
   "metadata": {
    "execution": {
     "iopub.execute_input": "2022-02-19T13:09:04.829349Z",
     "iopub.status.busy": "2022-02-19T13:09:04.828269Z",
     "iopub.status.idle": "2022-02-19T13:09:04.835015Z",
     "shell.execute_reply": "2022-02-19T13:09:04.834439Z",
     "shell.execute_reply.started": "2022-02-19T13:09:04.829298Z"
    }
   },
   "outputs": [
    {
     "data": {
      "text/plain": [
       "68.68853855986366"
      ]
     },
     "execution_count": 21,
     "metadata": {},
     "output_type": "execute_result"
    }
   ],
   "source": [
    "movies.RunTime.mean()"
   ]
  },
  {
   "cell_type": "code",
   "execution_count": 22,
   "metadata": {
    "execution": {
     "iopub.execute_input": "2022-02-19T13:09:22.000707Z",
     "iopub.status.busy": "2022-02-19T13:09:22.000431Z",
     "iopub.status.idle": "2022-02-19T13:09:22.007503Z",
     "shell.execute_reply": "2022-02-19T13:09:22.006609Z",
     "shell.execute_reply.started": "2022-02-19T13:09:22.000673Z"
    }
   },
   "outputs": [
    {
     "data": {
      "text/plain": [
       "60.0"
      ]
     },
     "execution_count": 22,
     "metadata": {},
     "output_type": "execute_result"
    }
   ],
   "source": [
    "movies.RunTime.median()"
   ]
  },
  {
   "cell_type": "code",
   "execution_count": 23,
   "metadata": {
    "execution": {
     "iopub.execute_input": "2022-02-19T13:18:34.571555Z",
     "iopub.status.busy": "2022-02-19T13:18:34.570516Z",
     "iopub.status.idle": "2022-02-19T13:18:34.835865Z",
     "shell.execute_reply": "2022-02-19T13:18:34.835177Z",
     "shell.execute_reply.started": "2022-02-19T13:18:34.571499Z"
    }
   },
   "outputs": [
    {
     "data": {
      "image/png": "[encoded data removed]",
      "text/plain": [
       "<Figure size 432x288 with 1 Axes>"
      ]
     },
     "metadata": {
      "needs_background": "light"
     },
     "output_type": "display_data"
    }
   ],
   "source": [
    "movies.RATING.plot.hist()\n",
    "plt.show()"
   ]
  },
  {
   "cell_type": "markdown",
   "metadata": {},
   "source": [
    "## As we observ above the more or less the mean and median values for RunTime is very much the same.Since the data is skewed, it is good to consider using the median value for replacing the missing values."
   ]
  },
  {
   "cell_type": "markdown",
   "metadata": {},
   "source": [
    "### Replacing RunTime Missing value with median value"
   ]
  },
  {
   "cell_type": "code",
   "execution_count": 24,
   "metadata": {
    "execution": {
     "iopub.execute_input": "2022-02-19T13:21:54.271381Z",
     "iopub.status.busy": "2022-02-19T13:21:54.270724Z",
     "iopub.status.idle": "2022-02-19T13:21:54.279649Z",
     "shell.execute_reply": "2022-02-19T13:21:54.278981Z",
     "shell.execute_reply.started": "2022-02-19T13:21:54.271326Z"
    }
   },
   "outputs": [
    {
     "data": {
      "text/plain": [
       "60.0"
      ]
     },
     "execution_count": 24,
     "metadata": {},
     "output_type": "execute_result"
    }
   ],
   "source": [
    "Mean_RunTimeVal = movies.RunTime.median()\n",
    "Mean_RunTimeVal"
   ]
  },
  {
   "cell_type": "code",
   "execution_count": 25,
   "metadata": {
    "execution": {
     "iopub.execute_input": "2022-02-19T13:24:10.120179Z",
     "iopub.status.busy": "2022-02-19T13:24:10.119877Z",
     "iopub.status.idle": "2022-02-19T13:24:10.125037Z",
     "shell.execute_reply": "2022-02-19T13:24:10.124395Z",
     "shell.execute_reply.started": "2022-02-19T13:24:10.120148Z"
    }
   },
   "outputs": [],
   "source": [
    "movies.RunTime.fillna(Mean_RunTimeVal,inplace=True)"
   ]
  },
  {
   "cell_type": "code",
   "execution_count": 26,
   "metadata": {
    "execution": {
     "iopub.execute_input": "2022-02-19T13:24:30.300782Z",
     "iopub.status.busy": "2022-02-19T13:24:30.300318Z",
     "iopub.status.idle": "2022-02-19T13:24:30.306671Z",
     "shell.execute_reply": "2022-02-19T13:24:30.306145Z",
     "shell.execute_reply.started": "2022-02-19T13:24:30.300750Z"
    }
   },
   "outputs": [
    {
     "data": {
      "text/plain": [
       "0"
      ]
     },
     "execution_count": 26,
     "metadata": {},
     "output_type": "execute_result"
    }
   ],
   "source": [
    "movies.RunTime.isna().sum()"
   ]
  },
  {
   "cell_type": "code",
   "execution_count": 27,
   "metadata": {
    "execution": {
     "iopub.execute_input": "2022-02-19T13:25:18.253030Z",
     "iopub.status.busy": "2022-02-19T13:25:18.251949Z",
     "iopub.status.idle": "2022-02-19T13:25:18.270952Z",
     "shell.execute_reply": "2022-02-19T13:25:18.270174Z",
     "shell.execute_reply.started": "2022-02-19T13:25:18.252979Z"
    }
   },
   "outputs": [
    {
     "data": {
      "text/plain": [
       "Gross       9539\n",
       "VOTES       1820\n",
       "YEAR         644\n",
       "GENRE         80\n",
       "MOVIES         0\n",
       "RATING         0\n",
       "ONE_LINE       0\n",
       "STARS          0\n",
       "RunTime        0\n",
       "dtype: int64"
      ]
     },
     "execution_count": 27,
     "metadata": {},
     "output_type": "execute_result"
    }
   ],
   "source": [
    "movies.isna().sum().sort_values(ascending=False)"
   ]
  },
  {
   "cell_type": "markdown",
   "metadata": {},
   "source": [
    "### Dropping gross column since it has amore than 95% na as data"
   ]
  },
  {
   "cell_type": "code",
   "execution_count": 28,
   "metadata": {
    "execution": {
     "iopub.execute_input": "2022-02-19T13:27:24.404786Z",
     "iopub.status.busy": "2022-02-19T13:27:24.404504Z",
     "iopub.status.idle": "2022-02-19T13:27:24.412591Z",
     "shell.execute_reply": "2022-02-19T13:27:24.411422Z",
     "shell.execute_reply.started": "2022-02-19T13:27:24.404757Z"
    }
   },
   "outputs": [],
   "source": [
    "movies.drop('Gross',\n",
    "  axis='columns', inplace=True)"
   ]
  },
  {
   "cell_type": "code",
   "execution_count": 29,
   "metadata": {
    "execution": {
     "iopub.execute_input": "2022-02-19T13:27:34.750959Z",
     "iopub.status.busy": "2022-02-19T13:27:34.750452Z",
     "iopub.status.idle": "2022-02-19T13:27:34.756364Z",
     "shell.execute_reply": "2022-02-19T13:27:34.755596Z",
     "shell.execute_reply.started": "2022-02-19T13:27:34.750925Z"
    }
   },
   "outputs": [
    {
     "data": {
      "text/plain": [
       "(9999, 8)"
      ]
     },
     "execution_count": 29,
     "metadata": {},
     "output_type": "execute_result"
    }
   ],
   "source": [
    "movies.shape"
   ]
  },
  {
   "cell_type": "code",
   "execution_count": 30,
   "metadata": {
    "execution": {
     "iopub.execute_input": "2022-02-19T13:27:45.720708Z",
     "iopub.status.busy": "2022-02-19T13:27:45.720136Z",
     "iopub.status.idle": "2022-02-19T13:27:45.736782Z",
     "shell.execute_reply": "2022-02-19T13:27:45.735930Z",
     "shell.execute_reply.started": "2022-02-19T13:27:45.720674Z"
    }
   },
   "outputs": [
    {
     "data": {
      "text/html": [
       "<div>\n",
       "<style scoped>\n",
       "    .dataframe tbody tr th:only-of-type {\n",
       "        vertical-align: middle;\n",
       "    }\n",
       "\n",
       "    .dataframe tbody tr th {\n",
       "        vertical-align: top;\n",
       "    }\n",
       "\n",
       "    .dataframe thead th {\n",
       "        text-align: right;\n",
       "    }\n",
       "</style>\n",
       "<table border=\"1\" class=\"dataframe\">\n",
       "  <thead>\n",
       "    <tr style=\"text-align: right;\">\n",
       "      <th></th>\n",
       "      <th>MOVIES</th>\n",
       "      <th>YEAR</th>\n",
       "      <th>GENRE</th>\n",
       "      <th>RATING</th>\n",
       "      <th>ONE_LINE</th>\n",
       "      <th>STARS</th>\n",
       "      <th>VOTES</th>\n",
       "      <th>RunTime</th>\n",
       "    </tr>\n",
       "  </thead>\n",
       "  <tbody>\n",
       "    <tr>\n",
       "      <th>0</th>\n",
       "      <td>Blood Red Sky</td>\n",
       "      <td>(2021)</td>\n",
       "      <td>\\nAction, Horror, Thriller</td>\n",
       "      <td>6.1</td>\n",
       "      <td>\\nA woman with a mysterious illness is forced ...</td>\n",
       "      <td>\\n    Director:\\nPeter Thorwarth\\n| \\n    Star...</td>\n",
       "      <td>21,062</td>\n",
       "      <td>121.0</td>\n",
       "    </tr>\n",
       "    <tr>\n",
       "      <th>1</th>\n",
       "      <td>Masters of the Universe: Revelation</td>\n",
       "      <td>(2021– )</td>\n",
       "      <td>\\nAnimation, Action, Adventure</td>\n",
       "      <td>5.0</td>\n",
       "      <td>\\nThe war for Eternia begins again in what may...</td>\n",
       "      <td>\\n            \\n    Stars:\\nChris Wood, \\nSara...</td>\n",
       "      <td>17,870</td>\n",
       "      <td>25.0</td>\n",
       "    </tr>\n",
       "    <tr>\n",
       "      <th>2</th>\n",
       "      <td>The Walking Dead</td>\n",
       "      <td>(2010–2022)</td>\n",
       "      <td>\\nDrama, Horror, Thriller</td>\n",
       "      <td>8.2</td>\n",
       "      <td>\\nSheriff Deputy Rick Grimes wakes up from a c...</td>\n",
       "      <td>\\n            \\n    Stars:\\nAndrew Lincoln, \\n...</td>\n",
       "      <td>885,805</td>\n",
       "      <td>44.0</td>\n",
       "    </tr>\n",
       "    <tr>\n",
       "      <th>3</th>\n",
       "      <td>Rick and Morty</td>\n",
       "      <td>(2013– )</td>\n",
       "      <td>\\nAnimation, Adventure, Comedy</td>\n",
       "      <td>9.2</td>\n",
       "      <td>\\nAn animated series that follows the exploits...</td>\n",
       "      <td>\\n            \\n    Stars:\\nJustin Roiland, \\n...</td>\n",
       "      <td>414,849</td>\n",
       "      <td>23.0</td>\n",
       "    </tr>\n",
       "    <tr>\n",
       "      <th>4</th>\n",
       "      <td>Army of Thieves</td>\n",
       "      <td>(2021)</td>\n",
       "      <td>\\nAction, Crime, Horror</td>\n",
       "      <td>7.2</td>\n",
       "      <td>\\nA prequel, set before the events of Army of ...</td>\n",
       "      <td>\\n    Director:\\nMatthias Schweighöfer\\n| \\n  ...</td>\n",
       "      <td>NaN</td>\n",
       "      <td>60.0</td>\n",
       "    </tr>\n",
       "  </tbody>\n",
       "</table>\n",
       "</div>"
      ],
      "text/plain": [
       "                                MOVIES         YEAR  \\\n",
       "0                        Blood Red Sky       (2021)   \n",
       "1  Masters of the Universe: Revelation     (2021– )   \n",
       "2                     The Walking Dead  (2010–2022)   \n",
       "3                       Rick and Morty     (2013– )   \n",
       "4                      Army of Thieves       (2021)   \n",
       "\n",
       "                                        GENRE  RATING  \\\n",
       "0      \\nAction, Horror, Thriller                 6.1   \n",
       "1  \\nAnimation, Action, Adventure                 5.0   \n",
       "2       \\nDrama, Horror, Thriller                 8.2   \n",
       "3  \\nAnimation, Adventure, Comedy                 9.2   \n",
       "4         \\nAction, Crime, Horror                 7.2   \n",
       "\n",
       "                                            ONE_LINE  \\\n",
       "0  \\nA woman with a mysterious illness is forced ...   \n",
       "1  \\nThe war for Eternia begins again in what may...   \n",
       "2  \\nSheriff Deputy Rick Grimes wakes up from a c...   \n",
       "3  \\nAn animated series that follows the exploits...   \n",
       "4  \\nA prequel, set before the events of Army of ...   \n",
       "\n",
       "                                               STARS    VOTES  RunTime  \n",
       "0  \\n    Director:\\nPeter Thorwarth\\n| \\n    Star...   21,062    121.0  \n",
       "1  \\n            \\n    Stars:\\nChris Wood, \\nSara...   17,870     25.0  \n",
       "2  \\n            \\n    Stars:\\nAndrew Lincoln, \\n...  885,805     44.0  \n",
       "3  \\n            \\n    Stars:\\nJustin Roiland, \\n...  414,849     23.0  \n",
       "4  \\n    Director:\\nMatthias Schweighöfer\\n| \\n  ...      NaN     60.0  "
      ]
     },
     "execution_count": 30,
     "metadata": {},
     "output_type": "execute_result"
    }
   ],
   "source": [
    "movies.head()"
   ]
  },
  {
   "cell_type": "code",
   "execution_count": 35,
   "metadata": {
    "execution": {
     "iopub.execute_input": "2022-02-19T13:31:09.245598Z",
     "iopub.status.busy": "2022-02-19T13:31:09.245224Z",
     "iopub.status.idle": "2022-02-19T13:31:09.443458Z",
     "shell.execute_reply": "2022-02-19T13:31:09.442470Z",
     "shell.execute_reply.started": "2022-02-19T13:31:09.245561Z"
    }
   },
   "outputs": [
    {
     "data": {
      "image/png": "[encoded data removed]",
      "text/plain": [
       "<Figure size 720x360 with 1 Axes>"
      ]
     },
     "metadata": {
      "needs_background": "light"
     },
     "output_type": "display_data"
    }
   ],
   "source": [
    "plt.figure(figsize=(10,5))\n",
    "plt.scatter(movies.RATING, movies.RunTime)\n",
    "plt.show()"
   ]
  },
  {
   "cell_type": "code",
   "execution_count": null,
   "metadata": {},
   "outputs": [],
   "source": []
  },
  {
   "cell_type": "code",
   "execution_count": null,
   "metadata": {},
   "outputs": [],
   "source": []
  }
 ],
 "metadata": {
  "kernelspec": {
   "display_name": "Python 3",
   "language": "python",
   "name": "python3"
  },
  "language_info": {
   "codemirror_mode": {
    "name": "ipython",
    "version": 3
   },
   "file_extension": ".py",
   "mimetype": "text/x-python",
   "name": "python",
   "nbconvert_exporter": "python",
   "pygments_lexer": "ipython3",
   "version": "3.8.8"
  }
 },
 "nbformat": 4,
 "nbformat_minor": 4
}
